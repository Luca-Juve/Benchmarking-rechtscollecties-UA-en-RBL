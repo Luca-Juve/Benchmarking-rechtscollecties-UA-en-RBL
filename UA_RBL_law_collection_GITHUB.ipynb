{
 "cells": [
  {
   "cell_type": "markdown",
   "metadata": {},
   "source": [
    "# Benchmarking rechtsbibliotheken van de Universiteit Antwerpen en de Universiteit Hasselt\n",
    "\n",
    "#### Doelstelling van de studie\n",
    "\n",
    "Deze studie gebruikt de bibliografische gegevens uit de Anet-catalogus, beheerd met het bibliotheeksysteem Brocade (dataset op 30/6/2021).\n",
    "De dataset wordt geëxporteerd als SQLite databank en deze wordt bevraagd met de hulp van Python libraries (sqlite3, pandas en matplotlib).\n",
    "\n",
    "#### Parameters\n",
    "\n",
    "- Beperking van de analyse tot een deel van de papieren boekencollecties, namelijk de monografieën en de naslagwerken aanwezig in de leeszalen (open kast). Voor de Universiteit Antwerpen (UAntwerpen) werden de boeken aanwezig in de cluster Rechten van de Stadscampus geanalyseerd, voor de Rechtsbibliotheek Limburg (RBLimburg) de boeken aanwezig in de leeszaal. \n",
    "\n",
    "- De plaatskenmerken in beide instellingen worden gevormd door het acroniem van de collectie (in beide gevallen is dit RECH), de UDC code (bv. 34), de relator (elk soort publicatie heeft een relator, bv E voor tijdschriften, G voor monografieën, A voor naslagwerken, enz.), en het jaar van uitgave. Deze studie betreft alle relatoren, behalve de relator E. De reden om de tijdschriften uit te sluiten is dat deze publicaties geen jaartal hebben op het etiket en in de meeste gevallen geen auteur/editor in de bibliografische beschrijving.  \n",
    "\n"
   ]
  },
  {
   "cell_type": "markdown",
   "metadata": {},
   "source": [
    "## Bevraging van de dataset\n",
    "\n",
    "De volgende queries worden gelanceerd op de SQlite databank:\n",
    "\n",
    "- Analyse 1 : omvang van de collectie \n",
    "- Analyse 2 : auteurs en editors \n",
    "- Analyse 3 : uitgevers\n",
    "- Analyse 4 : jaar van uitgave\n",
    "- Analyse 5 : inhoudstaal \n",
    "- Analyse 6 : indexering van de collectie"
   ]
  },
  {
   "cell_type": "markdown",
   "metadata": {},
   "source": [
    "### Analyse 1 : Omvang van de collectie\n",
    "\n",
    "Deze analyse betreft het aantal bibliografische beschrijvingen (de catalografische records in het bibliotheeksysteem Brocade) en niet het aantal volumes of exemplaren. Aan elke beschrijvingen hangen met andere woorden één of meer volumes en aan elk volume hangen één of meer exemplaren.\n"
   ]
  },
  {
   "cell_type": "code",
   "execution_count": 11,
   "metadata": {},
   "outputs": [
    {
     "name": "stdout",
     "output_type": "stream",
     "text": [
      "Aantal titels (records) van UAntwerpen: 30892\n",
      "Aantal titels (records) van RBLimburg: 11940\n"
     ]
    }
   ],
   "source": [
    "# Analyse 1 : Omvang van de collectie\n",
    "\n",
    "import sqlite3\n",
    "import matplotlib.pyplot as plt\n",
    "import pandas as pd\n",
    "\n",
    "\n",
    "'''\n",
    "PATH_TO_DB = '/Users/LCD150030/OneDrive - Universiteit Antwerpen/programmeren/sqlite/UA_UH.sqlite'\n",
    "'''\n",
    "\n",
    "PATH_TO_DB = '/Users/lmaggior/OneDrive - Universiteit Antwerpen/programmeren/sqlite/UA_UH.sqlite'\n",
    "\n",
    "conn = sqlite3.connect(PATH_TO_DB)\n",
    "cursor = conn.cursor()\n",
    "\n",
    "#  query UAntwerpen\n",
    "\n",
    "query_ua = '''\n",
    "SELECT \n",
    "    count(holding.cloi)\n",
    "FROM holding\n",
    "WHERE \n",
    "    (holding_ty like 'rech-%' \n",
    "    and holding_ty not like 'rech-e%') \n",
    "    and lib like 'UA-CST'\n",
    "'''\n",
    "\n",
    "cursor.execute(query_ua)\n",
    "data_ua = [row for row in cursor.fetchall()]\n",
    "print(f\"Aantal titels (records) van UAntwerpen: {data_ua[0][0]}\")\n",
    "\n",
    "#  query RBLimburg\n",
    "\n",
    "query_rbl = ''' \n",
    "SELECT \n",
    "    count(holding.cloi)\n",
    "FROM holding\n",
    "WHERE \n",
    "    (holding_ty like 'rech-%' and holding_ty not like 'rech-e%') \n",
    "    and lib like 'RBL' \n",
    "'''\n",
    "\n",
    "cursor.execute(query_rbl)\n",
    "data_rbl = [row for row in cursor.fetchall()]\n",
    "print(f\"Aantal titels (records) van RBLimburg: {data_rbl[0][0]}\")\n"
   ]
  },
  {
   "cell_type": "markdown",
   "metadata": {},
   "source": [
    "#### Commentaar\n",
    "\n",
    "De collectie van de UAntwerpen is groter, maar er zijn historische verklaringen voor dit verschil. De collectie van de UAntwerpen is ontstaan in de jaren '70 van vorige eeuw, terwijl die van RBLimburg pas ontstaan is in 2012 (RBLimburg beschikte overigens op dat moment enkel over de rechtscollectie van UHasselt, want de collecties van de andere stichtingspartners waren nog niet geïnventariseerd of gecatalogeerd). \n",
    "De aantallen moeten daarom in hun context gezien worden. Deze studie betreft overigens alleen de papieren collectie. De twee bibliotheken beschikken uiteraard over een zeer uitgebreide elektronische collectie (e-journals, e-books en databases). "
   ]
  },
  {
   "cell_type": "markdown",
   "metadata": {},
   "source": [
    "### Analyse 2 : auteurs en editors \n",
    "\n",
    "Door deze analyse wordt nagekeken welke auteurs en editors het meest voorkomen in de twee collecties (top 20). \n",
    "Van de top 5 wordt er ook een grafische voorstelling getoond.\n",
    "\n",
    "Noot: de catalogiseersregels zijn in juni 2013 veranderd. De catalografen moeten nu alle auteurs/editors vermeld op de titelpagina ontsluiten, terwijl ze in het verleden zich tot de eerste drie auteurs/editors moesten beperken.\n"
   ]
  },
  {
   "cell_type": "code",
   "execution_count": 12,
   "metadata": {},
   "outputs": [
    {
     "name": "stdout",
     "output_type": "stream",
     "text": [
      "\u001b[1mTop 20 auteurs en editors in de UAntwerpen collectie: \u001b[0m \n",
      "Blanpain, Roger        171\n",
      "Verbeke, Alain L.       99\n",
      "Fontaine, Marcel        79\n",
      "Hubeau, Bernard         77\n",
      "Tilleman, Bernard       70\n",
      "Dubuisson, Bernard      65\n",
      "Dujardin, Jean          62\n",
      "Ruysschaert, Stefan     62\n",
      "Leval, de, Georges      59\n",
      "Verougstraete, Ivan     56\n",
      "Klip, André             56\n",
      "Sagaert, Vincent        53\n",
      "Storme, Marcel          48\n",
      "Janvier, Ria            47\n",
      "Vanhees, Hendrik        45\n",
      "Stijns, Sophie          45\n",
      "Dirix, Eric             45\n",
      "Senaeve, Patrick        44\n",
      "Hendrickx, Frank        44\n",
      "Schwarze, Jürgen        44\n",
      "\n",
      "\u001b[1mTop 20 auteurs en editors in de RBlimburg collectie:\u001b[0m \n",
      "Verbeke, Alain L.        109\n",
      "Tilleman, Bernard         84\n",
      "Dirix, Eric               66\n",
      "Senaeve, Patrick          60\n",
      "Blanpain, Roger           58\n",
      "Sagaert, Vincent          57\n",
      "Gilson, Steve             56\n",
      "Culot, André              56\n",
      "Leleu, Yves-Henri         54\n",
      "Hubeau, Bernard           54\n",
      "Leval, de, Georges        50\n",
      "Verougstraete, Ivan       45\n",
      "Stijns, Sophie            45\n",
      "Vandermeersch, Damien     43\n",
      "Casman, Hélène            42\n",
      "Dujardin, Jean            41\n",
      "Page, De, Philippe        41\n",
      "Timmermans, Roland        41\n",
      "Terryn, Evelyne           41\n",
      "Janvier, Ria              40\n",
      "\n"
     ]
    },
    {
     "data": {
      "image/png": "[encoded data removed]",
      "text/plain": [
       "<Figure size 432x288 with 1 Axes>"
      ]
     },
     "metadata": {
      "needs_background": "light"
     },
     "output_type": "display_data"
    },
    {
     "data": {
      "image/png": "[encoded data removed]",
      "text/plain": [
       "<Figure size 432x288 with 1 Axes>"
      ]
     },
     "metadata": {
      "needs_background": "light"
     },
     "output_type": "display_data"
    }
   ],
   "source": [
    "# Analyse 2 : auteurs en editors\n",
    "\n",
    "# query voor UAntwerpen\n",
    "\n",
    "query_ua = '''\n",
    "SELECT DISTINCT\n",
    "    token.cloi,\n",
    "    author_fn || ', ' || author_vn as author_name,\n",
    "    author_fu,\n",
    "    lib\n",
    "FROM token\n",
    "JOIN \n",
    "    author on token.cloi = author.cloi\n",
    "JOIN \n",
    "    holding on author.cloi = holding.cloi \n",
    "WHERE \n",
    "    (author_fu like 'aut' or author_fu like 'edt') \n",
    "    and author_fn not like 'e.a.'\n",
    "    and lib like 'UA-CST' \n",
    "    and (holding_ty like 'rech-%' and holding_ty not like 'rech-e%')\n",
    "'''\n",
    "cursor.execute(query_ua)\n",
    "data_ua = {row for row in cursor.fetchall()}\n",
    "frame_ua = pd.DataFrame(data_ua, columns= ['cloi', 'naam', 'auteurfunctie', 'lib'])\n",
    "ua_aut = frame_ua['naam'].value_counts()\n",
    "print(\"\\033[1m\" + f'Top 20 auteurs en editors in de UAntwerpen collectie: \\033[0m \\n{(ua_aut.head(20)).to_string()}\\n')\n",
    "\n",
    "# query voor RBLimburg\n",
    "\n",
    "query_rbl = '''\n",
    "SELECT DISTINCT\n",
    "    token.cloi,\n",
    "    author_fn || ', ' || author_vn as author_name,\n",
    "    author_fu,\n",
    "    lib\n",
    "FROM token\n",
    "JOIN \n",
    "    author on token.cloi = author.cloi\n",
    "JOIN \n",
    "    holding on author.cloi = holding.cloi \n",
    "WHERE \n",
    "    (author_fu like 'aut' or author_fu like 'edt') \n",
    "    and author_fn not like 'e.a.'\n",
    "    and lib like 'RBL' and (holding_ty like 'rech-%' and holding_ty not like 'rech-e%') \n",
    " '''\n",
    "cursor.execute(query_rbl)\n",
    "data_rbl = {row for row in cursor.fetchall()}\n",
    "frame_rbl = pd.DataFrame(data_rbl, columns= ['cloi', 'naam', 'auteurfunctie', 'lib'])\n",
    "rbl_aut = frame_rbl['naam'].value_counts()\n",
    "print(\"\\033[1m\" + f'Top 20 auteurs en editors in de RBlimburg collectie:\\033[0m \\n{(rbl_aut.head(20)).to_string()}\\n')\n",
    "\n",
    "\n",
    "# grafieken\n",
    "\n",
    "bars_ua = ['Blanpain', 'Verbeke', 'Fontaine', 'Hubeau', 'Tilleman']\n",
    "bars_rbl = ['Verbeke', 'Tilleman', 'Dirix', 'Senaeve', 'Blanpain']\n",
    "\n",
    "def graph(height, bars, title, index):\n",
    "    plt.bar(index, height)\n",
    "    plt.ylabel(\"Aantal\")\n",
    "    plt.xticks(index, bars, rotation=30, fontsize=9)\n",
    "    plt.title\n",
    "    return plt.show()\n",
    "\n",
    "graph(ua_aut.head(), bars_ua, plt.title('Top 5 auteurs en editors UAntwerpen'), index = np.arange(5))\n",
    "\n",
    "graph(rbl_aut.head(), bars_rbl, plt.title('Top 5 auteurs en editors RBLimburg'), index = np.arange(5))\n",
    "\n",
    "\n"
   ]
  },
  {
   "cell_type": "markdown",
   "metadata": {},
   "source": [
    "## Analyse 3 : uitgevers\n",
    "\n",
    "Door deze analyse wordt berekend door welke uitgevers de monografieën gepubliceerd werden (top 10). De gegevens zijn helaas onvolledig omdat de catalografen in het verleden het veld van de uitgever niet altijd ingevuld hebben (wanneer de corporatieve auteur dezelfde was als de uitgever, moest deze laatste niet ontsloten worden). Er zijn ook tikfouten in de benamingen gebeurd. Verder kan de naam van de uitgever in de loop der tijd veranderd zijn, waardoor de gegevens niet altijd samen worden geteld. Tenslotte zijn de laatste jaren ook andere catalografische regels in het Anet netwerk veranderd. Tot 2013 moesten de catalografen de naam van de uitgever 'normaliseren', terwijl zij nu de naam onverkort moeten overnemen van de titelpagina. \n",
    "Maar we gaan van uit dat deze fouten minimaal zijn geweest. Bovendien hebben we in de berekening via pandas deze afwijkingen proberen op te vangen.\n",
    "De beperking van de analyse tot de periode 2011-2021 heeft ook vele van deze afwijkingen opgelost.\n",
    "Van de top 5 wordt er ook een grafische voorstelling getoond.\n"
   ]
  },
  {
   "cell_type": "code",
   "execution_count": 20,
   "metadata": {},
   "outputs": [
    {
     "name": "stdout",
     "output_type": "stream",
     "text": [
      "\u001b[1mTop 10 uitgevers in de UAntwerpen collectie (vanaf 2011):\u001b[0m  \n",
      "Intersentia                1022\n",
      "Larcier                     958\n",
      "Die Keure                   583\n",
      "Bruylant                    498\n",
      "Wolters Kluwer              366\n",
      "Maklu                       218\n",
      "Kluwer                      201\n",
      "LGDJ                        156\n",
      "Oxford University Press     134\n",
      "Edward Elgar Publishing     116\n",
      "\n",
      "\u001b[1mTop 10 uitgevers in de RBLimburg collectie (vanaf 2010):\u001b[0m  \n",
      "Larcier                    1200\n",
      "Bruylant                    760\n",
      "Intersentia                 757\n",
      "Die Keure                   593\n",
      "Anthemis                    525\n",
      "Wolters Kluwer              396\n",
      "Kluwer                      251\n",
      "Maklu                        90\n",
      "Oxford University Press      67\n",
      "Acco                         41\n",
      "\n"
     ]
    },
    {
     "data": {
      "image/png": "[encoded data removed]",
      "text/plain": [
       "<Figure size 432x288 with 1 Axes>"
      ]
     },
     "metadata": {
      "needs_background": "light"
     },
     "output_type": "display_data"
    },
    {
     "data": {
      "image/png": "[encoded data removed]",
      "text/plain": [
       "<Figure size 432x288 with 1 Axes>"
      ]
     },
     "metadata": {
      "needs_background": "light"
     },
     "output_type": "display_data"
    }
   ],
   "source": [
    "# Analyse 3 : uitgevers\n",
    "\n",
    "# functie om afwijkingen in de benaming van de uitgevers op te vangen\n",
    "\n",
    "def clean_frame(frame):\n",
    "    for char in ['-', '']:\n",
    "        frame = frame.replace(char, np.nan)\n",
    "    to_replace = [{'die Keure':'Die Keure'},\n",
    "                {'die Keure Professional Publishing':'Die Keure'},\n",
    "                {'larcier':'Larcier'},\n",
    "                {'LGDJ, une marque de Lextenso':'LGDJ'},\n",
    "                {'LGDJ, un savoir-faire de Lextenso':'LGDJ'},\n",
    "                {'larcier':'Larcier'},\n",
    "                {'larcier':'Larcier'},\n",
    "                {'bruylant':'Bruylant'},\n",
    "                {'LGDJ Lextenso':'LGDJ'},\n",
    "                {'LGDJ, Lextenso éditions':'LGDJ'},\n",
    "                {'intersentia':'Intersentia'},\n",
    "                {'Elgar':'Edward Elgar Publishing'},\n",
    "                {'Edward Elgar':'Edward Elgar Publishing'},\n",
    "                {'Larcier Legal':'Larcier'},\n",
    "                {'la Charte':'Die Keure'}]\n",
    "    for item in to_replace:\n",
    "        frame[\"impressum_ug\"].replace(item,  inplace=True)\n",
    "    return frame\n",
    "\n",
    "# query voor UAntwerpen\n",
    "\n",
    "query_ua = '''\n",
    "SELECT DISTINCT\n",
    "    token.cloi,\n",
    "    impressum_ju1sv,\n",
    "    impressum_ug\n",
    "FROM token\n",
    "JOIN \n",
    "    impressum on token.cloi = impressum.cloi\n",
    "JOIN \n",
    "    holding on impressum.cloi = holding.cloi\n",
    "WHERE \n",
    "    (holding_ty like 'rech-%' and holding_ty not like 'rech-e%') and lib like 'UA-CST'\n",
    "'''\n",
    "\n",
    "cursor.execute(query_ua)\n",
    "data_ua = {row for row in cursor.fetchall()}\n",
    "\n",
    "frame_ua = pd.DataFrame(data_ua, columns= ['cloi', 'impressum_ju1sv', 'impressum_ug'])\n",
    "frame_ua = clean_frame(frame_ua)\n",
    "ua_uitgevers_filt = frame_ua[frame_ua.impressum_ju1sv > '2010']\n",
    "ua_uitgevers = ua_uitgevers_filt['impressum_ug'].value_counts()\n",
    "print(\"\\033[1m\" + f'Top 10 uitgevers in de UAntwerpen collectie (vanaf 2011):\\033[0m  \\n{(ua_uitgevers.head(10)).to_string()}\\n')\n",
    "\n",
    "\n",
    "# query voor RBLimburg\n",
    "\n",
    "query_rbl = '''\n",
    "SELECT DISTINCT\n",
    "    token.cloi,\n",
    "    impressum_ju1sv,\n",
    "    impressum_ug\n",
    "FROM token\n",
    "JOIN\n",
    "    impressum on token.cloi = impressum.cloi\n",
    "JOIN \n",
    "    holding on impressum.cloi = holding.cloi\n",
    "WHERE \n",
    "    (holding_ty like 'rech-%' and holding_ty not like 'rech-e%') \n",
    "    and lib like 'RBL'\n",
    "'''\n",
    "\n",
    "cursor.execute(query_rbl)\n",
    "data_rbl = {row for row in cursor.fetchall()}\n",
    "frame_rbl = pd.DataFrame(data_rbl, columns= ['cloi', 'impressum_ju1sv', 'impressum_ug'])\n",
    "frame_rbl = clean_frame(frame_rbl)\n",
    "rbl_uitgevers_filt = frame_rbl[frame_rbl.impressum_ju1sv > '2010']\n",
    "rbl_uitgevers = rbl_uitgevers_filt['impressum_ug'].value_counts()\n",
    "\n",
    "print(\"\\033[1m\" + f'Top 10 uitgevers in de RBLimburg collectie (vanaf 2010):\\033[0m  \\n{(rbl_uitgevers.head(10)).to_string()}\\n')\n",
    "\n",
    "\n",
    "# grafieken\n",
    "\n",
    "bars_ua = ['Intersentia', 'Larcier', 'Die Keure',  'Bruylant', ' Wolter Kluwer']\n",
    "bars_rbl = ['Larcier', 'Bruylant', 'Intersentia', 'Die Keure', 'Anthemis']\n",
    "\n",
    "graph(ua_uitgevers.head(5), bars_ua,\n",
    "plt.title('Top 5 uitgevers UAntwerpen'), index = np.arange(5))\n",
    "\n",
    "graph(rbl_uitgevers.head(5), bars_rbl ,\n",
    "plt.title('Top 5 uitgevers RBLimburg'), index = np.arange(5))\n"
   ]
  },
  {
   "cell_type": "markdown",
   "metadata": {},
   "source": [
    "## Analyse 4 : jaar van uitgave\n",
    "\n",
    "De bedoeling is na te kijken hoeveel boeken uitgegeven in de periode 2011-2021 terecht gekomen zijn in de collecties. Dit laat toe de performantie qua recente literatuur te meten. \n",
    "Er wordt ook een grafische voorstelling van de gegevens getoond.\n"
   ]
  },
  {
   "cell_type": "code",
   "execution_count": 14,
   "metadata": {},
   "outputs": [
    {
     "name": "stdout",
     "output_type": "stream",
     "text": [
      "\u001b[1mJaar van uitgave in de UAntwerpen collectie (2011-2021):\u001b[0m  \n",
      "2015    698\n",
      "2012    667\n",
      "2014    657\n",
      "2016    608\n",
      "2017    594\n",
      "2013    588\n",
      "2011    574\n",
      "2019    538\n",
      "2018    510\n",
      "2020    442\n",
      "2021    140\n",
      "\n",
      "\u001b[1mTotaal titels:\u001b[0m  6016\n",
      "\n",
      "\u001b[1mJaar van uitgave in de RBLimburg collectie (2011-2021):\u001b[0m  \n",
      "2012    714\n",
      "2013    622\n",
      "2011    599\n",
      "2015    584\n",
      "2014    570\n",
      "2016    541\n",
      "2017    501\n",
      "2019    491\n",
      "2018    469\n",
      "2020    420\n",
      "2021    125\n",
      "\n",
      "\u001b[1mTotaal titels:\u001b[0m  5636\n",
      "\n"
     ]
    },
    {
     "data": {
      "image/png": "[encoded data removed]",
      "text/plain": [
       "<Figure size 432x288 with 1 Axes>"
      ]
     },
     "metadata": {
      "needs_background": "light"
     },
     "output_type": "display_data"
    },
    {
     "data": {
      "image/png": "[encoded data removed]",
      "text/plain": [
       "<Figure size 432x288 with 1 Axes>"
      ]
     },
     "metadata": {
      "needs_background": "light"
     },
     "output_type": "display_data"
    }
   ],
   "source": [
    "# Analyse 4: boeken gepubliceerd tussen 2009 en 2021 in beide collecties\n",
    "\n",
    "# query voor UAntwerpen\n",
    "\n",
    "query_ua = '''\n",
    "SELECT DISTINCT\n",
    "    token.cloi,\n",
    "    impressum_ju1sv\n",
    "FROM token\n",
    "JOIN \n",
    "    impressum on token.cloi = impressum.cloi\n",
    "JOIN \n",
    "    holding on impressum.cloi = holding.cloi\n",
    "WHERE \n",
    "    (holding_ty like 'rech-%' and holding_ty not like 'rech-e%')  \n",
    "    and lib like 'UA-CST'\n",
    "'''\n",
    "\n",
    "cursor.execute(query_ua)\n",
    "data_ua = {row for row in cursor.fetchall()}\n",
    "frame_ua = pd.DataFrame(data_ua, columns= ['cloi', 'impressum_ju1sv'])\n",
    "ua_jvu_filt = frame_ua[frame_ua.impressum_ju1sv > '2010']\n",
    "ua_jvu = ua_jvu_filt['impressum_ju1sv'].value_counts()\n",
    "ua_jvu_som = sum(ua_jvu)\n",
    "print(\"\\033[1m\" + f'Jaar van uitgave in de UAntwerpen collectie (2011-2021):\\033[0m  \\n{ua_jvu.to_string()}\\n')\n",
    "print(\"\\033[1m\" + f'Totaal titels:\\033[0m  {ua_jvu_som}\\n')\n",
    "\n",
    "# query voor RBLimburg\n",
    "\n",
    "query_rbl = '''\n",
    "SELECT DISTINCT\n",
    "    token.cloi,\n",
    "    impressum_ju1sv\n",
    "FROM token\n",
    "JOIN \n",
    "    impressum on token.cloi = impressum.cloi\n",
    "JOIN \n",
    "    holding on impressum.cloi = holding.cloi\n",
    "WHERE \n",
    "    (holding_ty like 'rech-%' and holding_ty not like 'rech-e%') \n",
    "    and lib like 'RBL'\n",
    "'''\n",
    "cursor.execute(query_rbl)\n",
    "data_rbl = {row for row in cursor.fetchall()}\n",
    "frame_rbl = pd.DataFrame(data_rbl, columns= ['cloi', 'impressum_ju1sv'])\n",
    "rbl_jvu_filt = frame_rbl[frame_rbl.impressum_ju1sv > '2010']\n",
    "rbl_jvu = rbl_jvu_filt['impressum_ju1sv'].value_counts()\n",
    "rbl_jvu_som = sum(rbl_jvu)\n",
    "\n",
    "print(\"\\033[1m\" + f'Jaar van uitgave in de RBLimburg collectie (2011-2021):\\033[0m  \\n{rbl_jvu.to_string()}\\n')\n",
    "print(\"\\033[1m\" + f'Totaal titels:\\033[0m  {rbl_jvu_som}\\n')\n",
    "\n",
    "# grafieken\n",
    "\n",
    "bars_ua = ['2015', '2012', '2014', '2016', '2017', '2013', '2011', '2019', '2018', '2020', '2021']\n",
    "bars_rbl = ['2012', '2013', '2011', '2015', '2014', '2016', '2017', '2019', '2018', '2020', '2021']\n",
    "\n",
    "graph(ua_jvu, bars_ua, plt.title('Collectie UAntwerpen, jaar van uitgave 2011-2021'), index = np.arange(11))\n",
    "graph(rbl_jvu, bars_rbl, plt.title('Collectie RBLimburg, jaar van uitgave 2011-2021'), index = np.arange(11))\n"
   ]
  },
  {
   "cell_type": "markdown",
   "metadata": {},
   "source": [
    "## Analyse 5 : inhoudstaal \n",
    "\n",
    "Door deze analyse wordt berekend welke de meest voorkomende talen in de twee collecties zijn. Deze berekening betreft de taal van de inhoud en dus niet de taal van de titel.\n",
    "Van de top zes wordt er ook een grafische voorstelling getoond."
   ]
  },
  {
   "cell_type": "code",
   "execution_count": 15,
   "metadata": {},
   "outputs": [
    {
     "name": "stdout",
     "output_type": "stream",
     "text": [
      "\u001b[1mTop 6 talen in de collectie van UAntwerpen:\u001b[0m  \n",
      "dut    11192\n",
      "fre     8851\n",
      "eng     8707\n",
      "ger     2989\n",
      "ita      146\n",
      "spa       42\n",
      "\n",
      "\u001b[1mTop 6 talen in de collectie van RBLimburg:\u001b[0m  \n",
      "dut    6610\n",
      "fre    3999\n",
      "eng    1463\n",
      "ger      72\n",
      "mul      14\n",
      "ita       9\n",
      "\n"
     ]
    },
    {
     "data": {
      "image/png": "[encoded data removed]",
      "text/plain": [
       "<Figure size 432x288 with 1 Axes>"
      ]
     },
     "metadata": {
      "needs_background": "light"
     },
     "output_type": "display_data"
    },
    {
     "data": {
      "image/png": "[encoded data removed]",
      "text/plain": [
       "<Figure size 432x288 with 1 Axes>"
      ]
     },
     "metadata": {
      "needs_background": "light"
     },
     "output_type": "display_data"
    }
   ],
   "source": [
    "# Analyse 5 : inhoudstaal\n",
    "\n",
    "# query voor UAntwerpen\n",
    "\n",
    "query_ua = '''\n",
    "SELECT DISTINCT\n",
    "    token.cloi,\n",
    "    language_lg\n",
    "FROM token\n",
    "JOIN \n",
    "    language on token.cloi = language.cloi\n",
    "JOIN \n",
    "    holding on language.cloi = holding.cloi\n",
    "WHERE \n",
    "    (holding_ty like 'rech-%' and holding_ty not like 'rech-e%') \n",
    "    and lib like 'UA-CST'\n",
    "'''\n",
    "cursor.execute(query_ua)\n",
    "data_ua = {row for row in cursor.fetchall()}\n",
    "frame_ua = pd.DataFrame(data_ua, columns= ['cloi', 'language_lg'])\n",
    "ua_lang = frame_ua['language_lg'].value_counts()\n",
    "\n",
    "print(\"\\033[1m\" + f'Top 6 talen in de collectie van UAntwerpen:\\033[0m  \\n{(ua_lang.head(6)).to_string()}\\n')\n",
    "\n",
    "\n",
    "# query voor RBLimburg\n",
    "\n",
    "query_rbl = '''\n",
    "SELECT DISTINCT\n",
    "    token.cloi,\n",
    "    language_lg\n",
    "FROM token\n",
    "JOIN \n",
    "    language on token.cloi = language.cloi\n",
    "JOIN \n",
    "    holding on language.cloi = holding.cloi\n",
    "WHERE \n",
    "    (holding_ty like 'rech-%' and holding_ty not like 'rech-e%') \n",
    "    and lib like 'RBL'\n",
    "'''\n",
    "cursor.execute(query_rbl)\n",
    "data_rbl = {row for row in cursor.fetchall()}\n",
    "frame_rbl = pd.DataFrame(data_rbl, columns= ['cloi', 'language_lg'])\n",
    "rbl_lang = frame_rbl['language_lg'].value_counts()\n",
    "\n",
    "print(\"\\033[1m\" + f'Top 6 talen in de collectie van RBLimburg:\\033[0m  \\n{(rbl_lang.head(6)).to_string()}\\n')\n",
    "\n",
    "# grafieken\n",
    "\n",
    "bars_ua = ['Nederlands', 'Frans', 'Engels', 'Duits', 'Italiaans', 'Spaans']\n",
    "bars_rbl = ['Nederlands', 'Frans', 'Engels', 'Duits', 'Meertalig', 'Italiaans']\n",
    "\n",
    "graph(ua_lang.head(6), bars_ua, plt.title('Collectie UAntwerpen, jaar van uitgave 2011-2021'), index = np.arange(6))\n",
    "graph(rbl_lang.head(6), bars_rbl, plt.title('Collectie RBLimburg, jaar van uitgave 2011-2021'), index = np.arange(6))\n"
   ]
  },
  {
   "cell_type": "markdown",
   "metadata": {},
   "source": [
    "## Analyse 6 : indexering van de collectie\n",
    "\n",
    "Door deze analyse wordt berekend welke UDC codes (top 20) gebruikt zijn in Brocade om de twee collecties te ontsluiten. Op deze manier kunnen de speerpunten van onderzoek en onderwijs gereconstrueerd worden, wel wetend uiteraard dat schenkingen of eenmalige onderzoeksprojecten een invloed kunnen hebben op de collectieopbouw.\n",
    "Van de top vijf wordt er een grafische voorstelling getoond.\n"
   ]
  },
  {
   "cell_type": "code",
   "execution_count": 16,
   "metadata": {},
   "outputs": [
    {
     "name": "stdout",
     "output_type": "stream",
     "text": [
      "\u001b[1mUDC codes in de UAntwerpen collectie (top 20): \u001b[0m \n",
      "Sociaal recht. Arbeidsrecht              2636\n",
      "Economisch recht                         2354\n",
      "Strafrecht. Strafprocesrecht             2302\n",
      "Verbintenissenrecht. Contractenrecht     2186\n",
      "Gerechtelijk privaatrecht                2053\n",
      "Fiscaal recht                            1971\n",
      "Administratief recht                     1906\n",
      "Europees recht                           1807\n",
      "Fundamentele rechten en vrijheden        1758\n",
      "Vennootschapsrecht. Verenigingsrecht     1526\n",
      "Publiek recht. Staatsrecht               1520\n",
      "Familierecht. Erfrecht                   1471\n",
      "Financieel recht                         1236\n",
      "Industriële en intellectuele eigendom    1235\n",
      "Internationaal recht                     1045\n",
      "Onrechtmatige daad                        923\n",
      "Medisch recht                             832\n",
      "Internationaal privaatrecht               826\n",
      "Zakenrecht                                814\n",
      "Recht                                     758\n",
      "\n",
      "\u001b[1mUDC codes in de RBLimburg collectie (top 20): \u001b[0m \n",
      "Sociaal recht. Arbeidsrecht                      1147\n",
      "Gerechtelijk privaatrecht                        1120\n",
      "Fiscaal recht                                     999\n",
      "Strafrecht. Strafprocesrecht                      998\n",
      "Verbintenissenrecht. Contractenrecht              885\n",
      "Familierecht. Erfrecht                            850\n",
      "Administratief recht                              737\n",
      "Vennootschapsrecht. Verenigingsrecht              707\n",
      "Fundamentele rechten en vrijheden                 642\n",
      "Europees recht                                    528\n",
      "Economisch recht                                  498\n",
      "Publiek recht. Staatsrecht                        476\n",
      "Zakenrecht                                        447\n",
      "Milieurecht                                       430\n",
      "Internationaal recht                              388\n",
      "Financieel recht                                  351\n",
      "Socialezekerheidsrecht                            321\n",
      "Onrechtmatige daad                                302\n",
      "Recht                                             286\n",
      "Rechtstheorie. Rechtsmethode. Rechtsfilosofie     280\n",
      "\n"
     ]
    },
    {
     "data": {
      "image/png": "[encoded data removed]",
      "text/plain": [
       "<Figure size 432x288 with 1 Axes>"
      ]
     },
     "metadata": {
      "needs_background": "light"
     },
     "output_type": "display_data"
    },
    {
     "data": {
      "image/png": "[encoded data removed]",
      "text/plain": [
       "<Figure size 432x288 with 1 Axes>"
      ]
     },
     "metadata": {
      "needs_background": "light"
     },
     "output_type": "display_data"
    }
   ],
   "source": [
    "from plotly.graph_objs import Bar, Layout\n",
    "\n",
    "# Analyse 6 : inhoud van de collectie\n",
    "\n",
    "# query voor UAntwerpen\n",
    "\n",
    "query_ua = '''\n",
    "SELECT DISTINCT \n",
    "    token.cloi, \n",
    "    subject_ty, \n",
    "    subject_ac, \n",
    "    subject_vw,\n",
    "    lib\n",
    "FROM token\n",
    "JOIN \n",
    "    holding on token.cloi = holding.cloi\n",
    "JOIN \n",
    "    subject on token.cloi = subject.cloi \n",
    "WHERE \n",
    "    lib like \"UA-CST\" \n",
    "    and (holding_ty like 'rech-%' and holding_ty not like 'rech-e%') \n",
    "    and subject_ty like \"U\" \n",
    "'''\n",
    "\n",
    "cursor.execute(query_ua)\n",
    "data_ua = {row for row in cursor.fetchall()}\n",
    "frame_ua = pd.DataFrame(data_ua, columns= ['cloi', 'subject_ty', 'subject_ac', 'subject_vw', 'lib'])\n",
    "ua_udc = frame_ua['subject_vw'].value_counts()\n",
    "\n",
    "print(\"\\033[1m\" + f'UDC codes in de UAntwerpen collectie (top 20): \\033[0m \\n{(ua_udc.head(20)).to_string()}\\n')\n",
    "\n",
    "\n",
    "# query voor RBLimburg\n",
    "\n",
    "query_rbl = '''\n",
    "SELECT DISTINCT \n",
    "    token.cloi, \n",
    "    subject_ty, \n",
    "    subject_ac, \n",
    "    subject_vw,\n",
    "    lib\n",
    "FROM token\n",
    "JOIN \n",
    "    holding on token.cloi = holding.cloi\n",
    "JOIN \n",
    "    subject on token.cloi = subject.cloi \n",
    "WHERE \n",
    "    lib like \"RBL\" \n",
    "    and (holding_ty like 'rech-%' and holding_ty not like 'rech-e%') \n",
    "    and subject_ty like \"U\" \n",
    "'''\n",
    "cursor.execute(query_rbl)\n",
    "data_rbl = {row for row in cursor.fetchall()}\n",
    "frame_rbl = pd.DataFrame(data_rbl, columns= ['cloi', 'subject_ty', 'subject_ac', 'subject_vw', 'lib'])\n",
    "rbl_udc = frame_rbl['subject_vw'].value_counts()\n",
    "\n",
    "print(\"\\033[1m\" + f'UDC codes in de RBLimburg collectie (top 20): \\033[0m \\n{(rbl_udc.head(20)).to_string()}\\n')\n",
    "\n",
    "# grafieken\n",
    "\n",
    "bars_ua = ['Sociaal recht', 'Economisch recht', 'Strafrecht', 'Contractenrecht', 'Gerechtelijk privaatrecht']\n",
    "bars_rbl = ['Sociaal recht', 'Gerechtelijk privaatrecht', 'Fiscaal recht', 'Strafrecht', 'Contractenrecht']\n",
    "\n",
    "graph(ua_udc.head(5), bars_ua, plt.title('Collectie UAntwerpen, UDC-codes'), index = np.arange(5))\n",
    "graph(rbl_udc.head(5), bars_rbl, plt.title('Collectie RBLimburg, UDC-codes'), index = np.arange(5))\n"
   ]
  }
 ],
 "metadata": {
  "interpreter": {
   "hash": "916dbcbb3f70747c44a77c7bcd40155683ae19c65e1c03b4aa3499c5328201f1"
  },
  "kernelspec": {
   "display_name": "Python 3",
   "language": "python",
   "name": "python3"
  },
  "language_info": {
   "codemirror_mode": {
    "name": "ipython",
    "version": 3
   },
   "file_extension": ".py",
   "mimetype": "text/x-python",
   "name": "python",
   "nbconvert_exporter": "python",
   "pygments_lexer": "ipython3",
   "version": "3.7.10"
  },
  "toc-autonumbering": false,
  "toc-showcode": false,
  "toc-showmarkdowntxt": false,
  "toc-showtags": false
 },
 "nbformat": 4,
 "nbformat_minor": 4
}
