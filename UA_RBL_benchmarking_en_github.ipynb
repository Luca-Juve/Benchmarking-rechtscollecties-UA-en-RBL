{
 "cells": [
  {
   "cell_type": "markdown",
   "metadata": {},
   "source": [
    "# Benchmarking of the law libraries of the University of Antwerp and the University of Hasselt\n",
    "\n",
    "#### Purpose of the study\n",
    "\n",
    "This study uses the bibliographic data from the Anet catalogue, managed by the library system Brocade (dataset on 30/6/2021).\n",
    "The dataset is exported as a SQLite database and queried with the help of Python libraries (sqlite3, numpy, pandas and matplotlib).\n",
    "\n",
    "#### Parameters\n",
    "\n",
    "- Limitation of the analysis to part of the paper book collections, namely the monographs and the reference works present in the reading rooms. \n",
    "\n",
    "- The call numbers labels in both institutions are formed by the acronym of the collection (in both cases this is RECH), by the UDC code (e.g. 34), by a letter  (each type of publication has a specific letter, e.g. E for journals, G for monographs, A for reference works, etc.), and by the year of publication. This study concerns all letters, except the E. The reason for excluding the journals is that these publications do not have a year on the label and in most cases no author/editor in the bibliographic description.  \n"
   ]
  },
  {
   "cell_type": "markdown",
   "metadata": {},
   "source": [
    "## Querying the dataset\n",
    "\n",
    "The following queries are launched on the SQlite database:\n",
    "\n",
    "- Query 1 : size of the collection \n",
    "- Query 2 : authors and editors \n",
    "- Query 3 : publishers\n",
    "- Query 4 : year of publication\n",
    "- Query 5 : language of content\n",
    "- Query 6 : subject description\n"
   ]
  },
  {
   "cell_type": "markdown",
   "metadata": {},
   "source": [
    "### Query 1 : Size of the collection\n",
    "\n",
    "This query concerns the number of bibliographic descriptions (the catalog records in the Brocade library system) and not the number of items. In other words, each description has one or more items attached to it.\n"
   ]
  },
  {
   "cell_type": "code",
   "execution_count": 2,
   "metadata": {},
   "outputs": [
    {
     "name": "stdout",
     "output_type": "stream",
     "text": [
      "Number of titles (bibliographic records) - UAntwerpen collection: 38529\n",
      "Number of titles (bibliographic records) - RBLimburg collection: 11940\n"
     ]
    }
   ],
   "source": [
    "# Query 1 : Size of the collection\n",
    "\n",
    "import sqlite3\n",
    "import matplotlib.pyplot as plt\n",
    "import pandas as pd\n",
    "import numpy as np\n",
    "\n",
    "PATH_TO_DB = '/Users/lmaggior/OneDrive - Universiteit Antwerpen/programmeren/sqlite/UA_UH.sqlite'\n",
    "\n",
    "conn = sqlite3.connect(PATH_TO_DB)\n",
    "cursor = conn.cursor()\n",
    "\n",
    "#  query UAntwerpen\n",
    "\n",
    "query_ua = '''\n",
    "SELECT \n",
    "    count(holding.cloi)\n",
    "FROM holding\n",
    "WHERE \n",
    "    ((holding_ty like 'rech-%' \n",
    "    and holding_ty not like 'rech-e%')\n",
    "    or (holding_ty like 'sr-%'\n",
    "    and holding_ty not like 'sr-e%'))\n",
    "    and lib like 'UA-CST'\n",
    "'''\n",
    "\n",
    "cursor.execute(query_ua)\n",
    "data_ua = [row for row in cursor.fetchall()]\n",
    "print(f\"Number of titles (bibliographic records) - UAntwerpen collection: {data_ua[0][0]}\")\n",
    "\n",
    "#  query RBLimburg\n",
    "\n",
    "query_rbl = ''' \n",
    "SELECT \n",
    "    count(holding.cloi)\n",
    "FROM holding\n",
    "WHERE \n",
    "    (holding_ty like 'rech-%' and holding_ty not like 'rech-e%') \n",
    "    and lib like 'RBL' \n",
    "'''\n",
    "\n",
    "cursor.execute(query_rbl)\n",
    "data_rbl = [row for row in cursor.fetchall()]\n",
    "print(f\"Number of titles (bibliographic records) - RBLimburg collection: {data_rbl[0][0]}\")\n"
   ]
  },
  {
   "cell_type": "markdown",
   "metadata": {},
   "source": [
    "#### Conclusion\n",
    "\n",
    "The UAntwerpen collection is larger, but there are historical explanations for this difference. It originated in the 70s of last century, while that of RBLimburg only came into being in 2012 (RBLimburg only consisted of the law collection of UHasselt at that time, because the collections of the other foundation partners had not yet been inventoried or catalogued). \n"
   ]
  },
  {
   "cell_type": "markdown",
   "metadata": {},
   "source": [
    "### Query 2 : Authors and editors  \n",
    "\n",
    "This query examines which authors and editors are most common in the two collections (top 20). \n",
    "A graphic representation of the top 5 is also shown.\n",
    "\n",
    "Note: the cataloguing rules changed in June 2013. The cataloguers now have to record all authors/editors mentioned on the title page, whereas in the past they had to limit themselves to the first three authors/editors.\n",
    "\n"
   ]
  },
  {
   "cell_type": "code",
   "execution_count": 3,
   "metadata": {},
   "outputs": [
    {
     "name": "stdout",
     "output_type": "stream",
     "text": [
      "\u001b[1mTop 20 authors and editors - UAntwerpen collection: \u001b[0m \n",
      "Blanpain, Roger        180\n",
      "Verbeke, Alain L.      101\n",
      "Hubeau, Bernard         82\n",
      "Fontaine, Marcel        81\n",
      "Dujardin, Jean          73\n",
      "Tilleman, Bernard       71\n",
      "Dubuisson, Bernard      65\n",
      "Leval, de, Georges      63\n",
      "Ruysschaert, Stefan     62\n",
      "Storme, Marcel          59\n",
      "Verougstraete, Ivan     57\n",
      "Klip, André             56\n",
      "Sagaert, Vincent        54\n",
      "Dirix, Eric             51\n",
      "Senaeve, Patrick        49\n",
      "Janvier, Ria            48\n",
      "Vanhees, Hendrik        46\n",
      "Stijns, Sophie          45\n",
      "Alen, André             45\n",
      "Schwarze, Jürgen        44\n",
      "\n",
      "\u001b[1mTop 20 authors and editors - RBLimburg collection:\u001b[0m \n",
      "Verbeke, Alain L.        109\n",
      "Tilleman, Bernard         84\n",
      "Dirix, Eric               66\n",
      "Senaeve, Patrick          60\n",
      "Blanpain, Roger           58\n",
      "Sagaert, Vincent          57\n",
      "Culot, André              56\n",
      "Gilson, Steve             56\n",
      "Hubeau, Bernard           54\n",
      "Leleu, Yves-Henri         54\n",
      "Leval, de, Georges        50\n",
      "Stijns, Sophie            45\n",
      "Verougstraete, Ivan       45\n",
      "Vandermeersch, Damien     43\n",
      "Casman, Hélène            42\n",
      "Terryn, Evelyne           41\n",
      "Dujardin, Jean            41\n",
      "Timmermans, Roland        41\n",
      "Page, De, Philippe        41\n",
      "Janvier, Ria              40\n",
      "\n"
     ]
    },
    {
     "data": {
      "image/png": "[encoded data removed]",
      "text/plain": [
       "<Figure size 432x288 with 1 Axes>"
      ]
     },
     "metadata": {
      "needs_background": "light"
     },
     "output_type": "display_data"
    },
    {
     "data": {
      "image/png": "[encoded data removed]",
      "text/plain": [
       "<Figure size 432x288 with 1 Axes>"
      ]
     },
     "metadata": {
      "needs_background": "light"
     },
     "output_type": "display_data"
    }
   ],
   "source": [
    "# Query 2 : Authors and editors \n",
    "\n",
    "# query UAntwerpen\n",
    "\n",
    "query_ua = '''\n",
    "SELECT DISTINCT\n",
    "    token.cloi,\n",
    "    author_fn || ', ' || author_vn as author_name,\n",
    "    author_fu,\n",
    "    lib\n",
    "FROM token\n",
    "JOIN \n",
    "    author on token.cloi = author.cloi\n",
    "JOIN \n",
    "    holding on author.cloi = holding.cloi \n",
    "WHERE \n",
    "    (author_fu like 'aut' or author_fu like 'edt') \n",
    "    and author_fn not like 'e.a.'\n",
    "    and lib like 'UA-CST' \n",
    "    and ((holding_ty like 'rech-%' and holding_ty not like 'rech-e%') \n",
    "    or (holding_ty like 'sr-%' and holding_ty not like 'sr-e%'))\n",
    "'''\n",
    "cursor.execute(query_ua)\n",
    "data_ua = {row for row in cursor.fetchall()}\n",
    "frame_ua = pd.DataFrame(data_ua, columns= ['cloi', 'naam', 'auteurfunctie', 'lib'])\n",
    "ua_aut = frame_ua['naam'].value_counts()\n",
    "print(\"\\033[1m\" + f'Top 20 authors and editors - UAntwerpen collection: \\033[0m \\n{(ua_aut.head(20)).to_string()}\\n')\n",
    "\n",
    "# query RBLimburg\n",
    "\n",
    "query_rbl = '''\n",
    "SELECT DISTINCT\n",
    "    token.cloi,\n",
    "    author_fn || ', ' || author_vn as author_name,\n",
    "    author_fu,\n",
    "    lib\n",
    "FROM token\n",
    "JOIN \n",
    "    author on token.cloi = author.cloi\n",
    "JOIN \n",
    "    holding on author.cloi = holding.cloi \n",
    "WHERE \n",
    "    (author_fu like 'aut' or author_fu like 'edt') \n",
    "    and author_fn not like 'e.a.'\n",
    "    and lib like 'RBL' and (holding_ty like 'rech-%' and holding_ty not like 'rech-e%') \n",
    " '''\n",
    "cursor.execute(query_rbl)\n",
    "data_rbl = {row for row in cursor.fetchall()}\n",
    "frame_rbl = pd.DataFrame(data_rbl, columns= ['cloi', 'naam', 'auteurfunctie', 'lib'])\n",
    "rbl_aut = frame_rbl['naam'].value_counts()\n",
    "print(\"\\033[1m\" + f'Top 20 authors and editors - RBLimburg collection:\\033[0m \\n{(rbl_aut.head(20)).to_string()}\\n')\n",
    "\n",
    "\n",
    "# graphs\n",
    "\n",
    "bars_ua = ['Blanpain', 'Verbeke', 'Hubeau', 'Fontaine', 'Dujardin']\n",
    "bars_rbl = ['Verbeke', 'Tilleman', 'Dirix', 'Senaeve', 'Blanpain']\n",
    "\n",
    "def graph(height, bars, title, index):\n",
    "    plt.bar(index, height)\n",
    "    plt.ylabel(\"Aantal\")\n",
    "    plt.xticks(index, bars, rotation=30, fontsize=9)\n",
    "    plt.title\n",
    "    return plt.show()\n",
    "\n",
    "graph(ua_aut.head(), bars_ua, plt.title('Top 5 authors and editors - UAntwerpen'), index = np.arange(5))\n",
    "\n",
    "graph(rbl_aut.head(), bars_rbl, plt.title('Top 5 authors and editors - RBLimburg'), index = np.arange(5))\n",
    "\n",
    "\n"
   ]
  },
  {
   "cell_type": "markdown",
   "metadata": {},
   "source": [
    "## Query 3 : Publishers\n",
    "\n",
    "This query examines by which publishers the monographs were published (top 10). Unfortunately, the data is incomplete because the cataloguers in the past did not always fill in the field of the publisher (if the corporative author was the same as the publisher, the latter did not have to be recorded). There have also been typos by the cataloguers. Furthermore, the name of the publisher may have changed over time, so that the data is not always counted together. Finally, other cataloguing rules have also changed in recent years. Until 2013, the cataloguers had to 'normalize' the name of the publisher, while they now have to record the name in full from the title page. \n",
    "But we assume that these errors have been minimal. In addition, in the data processing via pandas we could limit these discrepancies. The limitation of the analysis to the period 2011-2021 has also solved many of these inconsistencies.\n",
    "A graphic representation of the top 5 is also shown.\n"
   ]
  },
  {
   "cell_type": "code",
   "execution_count": 8,
   "metadata": {},
   "outputs": [
    {
     "name": "stdout",
     "output_type": "stream",
     "text": [
      "\u001b[1mTop 10 publishers - UAntwerpen collection (from 2011):\u001b[0m  \n",
      "Intersentia                1049\n",
      "Larcier                     991\n",
      "Die Keure                   600\n",
      "Bruylant                    516\n",
      "Wolters Kluwer              371\n",
      "Maklu                       226\n",
      "Kluwer                      204\n",
      "Oxford University Press     163\n",
      "LGDJ                        156\n",
      "Edward Elgar Publishing     137\n",
      "\n",
      "\u001b[1mTop 10 publishers - RBLimburg collection (from 2011):\u001b[0m  \n",
      "Larcier                    1200\n",
      "Bruylant                    760\n",
      "Intersentia                 757\n",
      "Die Keure                   593\n",
      "Anthemis                    525\n",
      "Wolters Kluwer              396\n",
      "Kluwer                      251\n",
      "Maklu                        90\n",
      "Oxford University Press      67\n",
      "Acco                         41\n",
      "\n"
     ]
    },
    {
     "data": {
      "image/png": "[encoded data removed]",
      "text/plain": [
       "<Figure size 432x288 with 1 Axes>"
      ]
     },
     "metadata": {
      "needs_background": "light"
     },
     "output_type": "display_data"
    },
    {
     "data": {
      "image/png": "[encoded data removed]",
      "text/plain": [
       "<Figure size 432x288 with 1 Axes>"
      ]
     },
     "metadata": {
      "needs_background": "light"
     },
     "output_type": "display_data"
    }
   ],
   "source": [
    "# Query 3 : Publishers\n",
    "\n",
    "# function to eliminate discrepancies in the name of the publishers\n",
    "\n",
    "def clean_frame(frame):\n",
    "    for char in ['-', '']:\n",
    "        frame = frame.replace(char, np.nan)\n",
    "    to_replace = [{'die Keure':'Die Keure'},\n",
    "                {'die Keure Professional Publishing':'Die Keure'},\n",
    "                {'larcier':'Larcier'},\n",
    "                {'LGDJ, une marque de Lextenso':'LGDJ'},\n",
    "                {'LGDJ, un savoir-faire de Lextenso':'LGDJ'},\n",
    "                {'larcier':'Larcier'},\n",
    "                {'larcier':'Larcier'},\n",
    "                {'bruylant':'Bruylant'},\n",
    "                {'LGDJ Lextenso':'LGDJ'},\n",
    "                {'LGDJ, Lextenso éditions':'LGDJ'},\n",
    "                {'intersentia':'Intersentia'},\n",
    "                {'Elgar':'Edward Elgar Publishing'},\n",
    "                {'Edward Elgar':'Edward Elgar Publishing'},\n",
    "                {'Larcier Legal':'Larcier'},\n",
    "                {'la Charte':'Die Keure'}]\n",
    "    for item in to_replace:\n",
    "        frame[\"impressum_ug\"].replace(item,  inplace=True)\n",
    "    return frame\n",
    "\n",
    "# query UAntwerpen\n",
    "\n",
    "query_ua = '''\n",
    "SELECT DISTINCT\n",
    "    token.cloi,\n",
    "    impressum_ju1sv,\n",
    "    impressum_ug\n",
    "FROM token\n",
    "JOIN \n",
    "    impressum on token.cloi = impressum.cloi\n",
    "JOIN \n",
    "    holding on impressum.cloi = holding.cloi\n",
    "WHERE \n",
    "    ((holding_ty like 'rech-%' and holding_ty not like 'rech-e%') \n",
    "    or (holding_ty like 'sr-%' and holding_ty not like 'sr-e%'))  \n",
    "    and lib like 'UA-CST'\n",
    "'''\n",
    "\n",
    "cursor.execute(query_ua)\n",
    "data_ua = {row for row in cursor.fetchall()}\n",
    "\n",
    "frame_ua = pd.DataFrame(data_ua, columns= ['cloi', 'impressum_ju1sv', 'impressum_ug'])\n",
    "frame_ua = clean_frame(frame_ua)\n",
    "ua_uitgevers_filt = frame_ua[frame_ua.impressum_ju1sv > '2010']\n",
    "ua_uitgevers = ua_uitgevers_filt['impressum_ug'].value_counts()\n",
    "print(\"\\033[1m\" + f'Top 10 publishers - UAntwerpen collection (from 2011):\\033[0m  \\n{(ua_uitgevers.head(10)).to_string()}\\n')\n",
    "\n",
    "\n",
    "# query RBLimburg\n",
    "\n",
    "query_rbl = '''\n",
    "SELECT DISTINCT\n",
    "    token.cloi,\n",
    "    impressum_ju1sv,\n",
    "    impressum_ug\n",
    "FROM token\n",
    "JOIN\n",
    "    impressum on token.cloi = impressum.cloi\n",
    "JOIN \n",
    "    holding on impressum.cloi = holding.cloi\n",
    "WHERE \n",
    "    (holding_ty like 'rech-%' and holding_ty not like 'rech-e%') \n",
    "    and lib like 'RBL'\n",
    "'''\n",
    "\n",
    "cursor.execute(query_rbl)\n",
    "data_rbl = {row for row in cursor.fetchall()}\n",
    "frame_rbl = pd.DataFrame(data_rbl, columns= ['cloi', 'impressum_ju1sv', 'impressum_ug'])\n",
    "frame_rbl = clean_frame(frame_rbl)\n",
    "rbl_uitgevers_filt = frame_rbl[frame_rbl.impressum_ju1sv > '2010']\n",
    "rbl_uitgevers = rbl_uitgevers_filt['impressum_ug'].value_counts()\n",
    "\n",
    "print(\"\\033[1m\" + f'Top 10 publishers - RBLimburg collection (from 2011):\\033[0m  \\n{(rbl_uitgevers.head(10)).to_string()}\\n')\n",
    "\n",
    "\n",
    "# graphs\n",
    "\n",
    "bars_ua = ['Intersentia', 'Larcier', 'Die Keure',  'Bruylant', ' Wolter Kluwer']\n",
    "bars_rbl = ['Larcier', 'Bruylant', 'Intersentia', 'Die Keure', 'Anthemis']\n",
    "\n",
    "graph(ua_uitgevers.head(5), bars_ua,\n",
    "plt.title('Top 5 publishers - UAntwerpen'), index = np.arange(5))\n",
    "\n",
    "graph(rbl_uitgevers.head(5), bars_rbl ,\n",
    "plt.title('Top 5 publishers RBLimburg'), index = np.arange(5))\n"
   ]
  },
  {
   "cell_type": "markdown",
   "metadata": {},
   "source": [
    "## Query 4 : Year of publication\n",
    "\n",
    "The aim of this query is to check how many books published in the period 2011-2021 ended up in the collections. This makes it possible to measure the performance in terms of recent literature. \n",
    "A graphical representation of the data is also shown.\n"
   ]
  },
  {
   "cell_type": "code",
   "execution_count": 5,
   "metadata": {},
   "outputs": [
    {
     "name": "stdout",
     "output_type": "stream",
     "text": [
      "\u001b[1mYear of publications - UAntwerpen collection (2011-2021):\u001b[0m  \n",
      "2015    737\n",
      "2014    690\n",
      "2012    687\n",
      "2016    639\n",
      "2017    621\n",
      "2011    614\n",
      "2013    609\n",
      "2019    560\n",
      "2018    532\n",
      "2020    455\n",
      "2021    142\n",
      "\n",
      "\u001b[1mNumber of titels:\u001b[0m  6286\n",
      "\n",
      "\u001b[1mYear of publications - RBLimburg collection (2011-2021):\u001b[0m  \n",
      "2012    714\n",
      "2013    622\n",
      "2011    599\n",
      "2015    584\n",
      "2014    570\n",
      "2016    541\n",
      "2017    501\n",
      "2019    491\n",
      "2018    469\n",
      "2020    420\n",
      "2021    125\n",
      "\n",
      "\u001b[1mNumber of titles:\u001b[0m  5636\n",
      "\n"
     ]
    },
    {
     "data": {
      "image/png": "[encoded data removed]",
      "text/plain": [
       "<Figure size 432x288 with 1 Axes>"
      ]
     },
     "metadata": {
      "needs_background": "light"
     },
     "output_type": "display_data"
    },
    {
     "data": {
      "image/png": "[encoded data removed]",
      "text/plain": [
       "<Figure size 432x288 with 1 Axes>"
      ]
     },
     "metadata": {
      "needs_background": "light"
     },
     "output_type": "display_data"
    }
   ],
   "source": [
    "# Query 4: Year of publication\n",
    "\n",
    "# query UAntwerpen\n",
    "\n",
    "query_ua = '''\n",
    "SELECT DISTINCT\n",
    "    token.cloi,\n",
    "    impressum_ju1sv\n",
    "FROM token\n",
    "JOIN \n",
    "    impressum on token.cloi = impressum.cloi\n",
    "JOIN \n",
    "    holding on impressum.cloi = holding.cloi\n",
    "WHERE \n",
    "    ((holding_ty like 'rech-%' and holding_ty not like 'rech-e%')\n",
    "    or (holding_ty like 'sr-%' and holding_ty not like 'sr-e%'))  \n",
    "    and lib like 'UA-CST'\n",
    "'''\n",
    "\n",
    "cursor.execute(query_ua)\n",
    "data_ua = {row for row in cursor.fetchall()}\n",
    "frame_ua = pd.DataFrame(data_ua, columns= ['cloi', 'impressum_ju1sv'])\n",
    "ua_jvu_filt = frame_ua[frame_ua.impressum_ju1sv > '2010']\n",
    "ua_jvu = ua_jvu_filt['impressum_ju1sv'].value_counts()\n",
    "ua_jvu_som = sum(ua_jvu)\n",
    "print(\"\\033[1m\" + f'Year of publications - UAntwerpen collection (2011-2021):\\033[0m  \\n{ua_jvu.to_string()}\\n')\n",
    "print(\"\\033[1m\" + f'Number of titels:\\033[0m  {ua_jvu_som}\\n')\n",
    "\n",
    "# query RBLimburg\n",
    "\n",
    "query_rbl = '''\n",
    "SELECT DISTINCT\n",
    "    token.cloi,\n",
    "    impressum_ju1sv\n",
    "FROM token\n",
    "JOIN \n",
    "    impressum on token.cloi = impressum.cloi\n",
    "JOIN \n",
    "    holding on impressum.cloi = holding.cloi\n",
    "WHERE \n",
    "    (holding_ty like 'rech-%' and holding_ty not like 'rech-e%') \n",
    "    and lib like 'RBL'\n",
    "'''\n",
    "cursor.execute(query_rbl)\n",
    "data_rbl = {row for row in cursor.fetchall()}\n",
    "frame_rbl = pd.DataFrame(data_rbl, columns= ['cloi', 'impressum_ju1sv'])\n",
    "rbl_jvu_filt = frame_rbl[frame_rbl.impressum_ju1sv > '2010']\n",
    "rbl_jvu = rbl_jvu_filt['impressum_ju1sv'].value_counts()\n",
    "rbl_jvu_som = sum(rbl_jvu)\n",
    "\n",
    "print(\"\\033[1m\" + f'Year of publications - RBLimburg collection (2011-2021):\\033[0m  \\n{rbl_jvu.to_string()}\\n')\n",
    "print(\"\\033[1m\" + f'Number of titles:\\033[0m  {rbl_jvu_som}\\n')\n",
    "\n",
    "# graphs\n",
    "\n",
    "bars_ua = ['2015', '2014', '2012', '2016', '2017', '2011', '2013', '2019', '2018', '2020', '2021']\n",
    "bars_rbl = ['2012', '2013', '2011', '2015', '2014', '2016', '2017', '2019', '2018', '2020', '2021']\n",
    "\n",
    "graph(ua_jvu, bars_ua, plt.title('Year of publications - UAntwerpen (2011-2021)'), index = np.arange(11))\n",
    "graph(rbl_jvu, bars_rbl, plt.title('Year of publications - RBLimburg (2011-2021)'), index = np.arange(11))\n"
   ]
  },
  {
   "cell_type": "markdown",
   "metadata": {},
   "source": [
    "## Query 5 : Language of content \n",
    "\n",
    "This query calculates which are the most common languages in the two collections. This calculation concerns the language of the content and not the language of the title.\n",
    "A graphic representation of the top six is also shown.\n"
   ]
  },
  {
   "cell_type": "code",
   "execution_count": 9,
   "metadata": {},
   "outputs": [
    {
     "name": "stdout",
     "output_type": "stream",
     "text": [
      "\u001b[1mTop 6 languages of content - UAntwerpen collection:\u001b[0m  \n",
      "dut    12637\n",
      "eng    10466\n",
      "fre    10152\n",
      "ger     3964\n",
      "ita      171\n",
      "lat       80\n",
      "\n",
      "\u001b[1mTop 6 languages of content - RBLimburg collection:\u001b[0m  \n",
      "dut    6610\n",
      "fre    3999\n",
      "eng    1463\n",
      "ger      72\n",
      "mul      14\n",
      "ita       9\n",
      "\n"
     ]
    },
    {
     "data": {
      "image/png": "[encoded data removed]",
      "text/plain": [
       "<Figure size 432x288 with 1 Axes>"
      ]
     },
     "metadata": {
      "needs_background": "light"
     },
     "output_type": "display_data"
    },
    {
     "data": {
      "image/png": "[encoded data removed]",
      "text/plain": [
       "<Figure size 432x288 with 1 Axes>"
      ]
     },
     "metadata": {
      "needs_background": "light"
     },
     "output_type": "display_data"
    }
   ],
   "source": [
    "# Query 5 : Language of content \n",
    "\n",
    "# query UAntwerpen\n",
    "\n",
    "query_ua = '''\n",
    "SELECT DISTINCT\n",
    "    token.cloi,\n",
    "    language_lg\n",
    "FROM token\n",
    "JOIN \n",
    "    language on token.cloi = language.cloi\n",
    "JOIN \n",
    "    holding on language.cloi = holding.cloi\n",
    "WHERE \n",
    "    ((holding_ty like 'rech-%' and holding_ty not like 'rech-e%')\n",
    "    or (holding_ty like 'sr-%' and holding_ty not like 'sr-e%'))\n",
    "    and lib like 'UA-CST'\n",
    "'''\n",
    "cursor.execute(query_ua)\n",
    "data_ua = {row for row in cursor.fetchall()}\n",
    "frame_ua = pd.DataFrame(data_ua, columns= ['cloi', 'language_lg'])\n",
    "ua_lang = frame_ua['language_lg'].value_counts()\n",
    "\n",
    "print(\"\\033[1m\" + f'Top 6 languages of content - UAntwerpen collection:\\033[0m  \\n{(ua_lang.head(6)).to_string()}\\n')\n",
    "\n",
    "\n",
    "# query RBLimburg\n",
    "\n",
    "query_rbl = '''\n",
    "SELECT DISTINCT\n",
    "    token.cloi,\n",
    "    language_lg\n",
    "FROM token\n",
    "JOIN \n",
    "    language on token.cloi = language.cloi\n",
    "JOIN \n",
    "    holding on language.cloi = holding.cloi\n",
    "WHERE \n",
    "    (holding_ty like 'rech-%' and holding_ty not like 'rech-e%') \n",
    "    and lib like 'RBL'\n",
    "'''\n",
    "cursor.execute(query_rbl)\n",
    "data_rbl = {row for row in cursor.fetchall()}\n",
    "frame_rbl = pd.DataFrame(data_rbl, columns= ['cloi', 'language_lg'])\n",
    "rbl_lang = frame_rbl['language_lg'].value_counts()\n",
    "\n",
    "print(\"\\033[1m\" + f'Top 6 languages of content - RBLimburg collection:\\033[0m  \\n{(rbl_lang.head(6)).to_string()}\\n')\n",
    "\n",
    "# graphs\n",
    "\n",
    "bars_ua = ['Nederlands', 'Engels', 'Frans', 'Duits', 'Italiaans', 'Latijn']\n",
    "bars_rbl = ['Nederlands', 'Frans', 'Engels', 'Duits', 'Meertalig', 'Italiaans']\n",
    "\n",
    "graph(ua_lang.head(6), bars_ua, plt.title('Top 6 languages of content - UAntwerpen'), index = np.arange(6))\n",
    "graph(rbl_lang.head(6), bars_rbl, plt.title('Top 6 languages of content - RBLimburg'), index = np.arange(6))\n"
   ]
  },
  {
   "cell_type": "markdown",
   "metadata": {},
   "source": [
    "## Query 6 : Subject description \n",
    "\n",
    "This query examines which UDC codes (top 20) were used in Brocade to describe the two collections. In this way, the key elements of research and education can be reconstructed, knowing of course that donations or one-off research projects can have an influence on collection building.\n",
    "A graphical representation of the top five is shown.\n"
   ]
  },
  {
   "cell_type": "code",
   "execution_count": 7,
   "metadata": {},
   "outputs": [
    {
     "name": "stdout",
     "output_type": "stream",
     "text": [
      "\u001b[1mTop 20 UDC codes - UAntwerpen collection: \u001b[0m \n",
      "Sociaal recht. Arbeidsrecht                      2719\n",
      "Rechtstheorie. Rechtsmethode. Rechtsfilosofie    2541\n",
      "Strafrecht. Strafprocesrecht                     2448\n",
      "Economisch recht                                 2410\n",
      "Verbintenissenrecht. Contractenrecht             2308\n",
      "Gerechtelijk privaatrecht                        2264\n",
      "Administratief recht                             2030\n",
      "Fiscaal recht                                    2002\n",
      "Fundamentele rechten en vrijheden                1844\n",
      "Europees recht                                   1821\n",
      "Publiek recht. Staatsrecht                       1704\n",
      "Vennootschapsrecht. Verenigingsrecht             1595\n",
      "Familierecht. Erfrecht                           1581\n",
      "Industriële en intellectuele eigendom            1269\n",
      "Financieel recht                                 1262\n",
      "Internationaal recht                             1090\n",
      "Onrechtmatige daad                                983\n",
      "Zakenrecht                                        908\n",
      "Recht                                             902\n",
      "Internationaal privaatrecht                       886\n",
      "\n",
      "\u001b[1mTop 20 UDC codes - RBLimburg: \u001b[0m \n",
      "Sociaal recht. Arbeidsrecht                      1147\n",
      "Gerechtelijk privaatrecht                        1120\n",
      "Fiscaal recht                                     999\n",
      "Strafrecht. Strafprocesrecht                      998\n",
      "Verbintenissenrecht. Contractenrecht              885\n",
      "Familierecht. Erfrecht                            850\n",
      "Administratief recht                              737\n",
      "Vennootschapsrecht. Verenigingsrecht              707\n",
      "Fundamentele rechten en vrijheden                 642\n",
      "Europees recht                                    528\n",
      "Economisch recht                                  498\n",
      "Publiek recht. Staatsrecht                        476\n",
      "Zakenrecht                                        447\n",
      "Milieurecht                                       430\n",
      "Internationaal recht                              388\n",
      "Financieel recht                                  351\n",
      "Socialezekerheidsrecht                            321\n",
      "Onrechtmatige daad                                302\n",
      "Recht                                             286\n",
      "Rechtstheorie. Rechtsmethode. Rechtsfilosofie     280\n",
      "\n"
     ]
    },
    {
     "data": {
      "image/png": "[encoded data removed]",
      "text/plain": [
       "<Figure size 432x288 with 1 Axes>"
      ]
     },
     "metadata": {
      "needs_background": "light"
     },
     "output_type": "display_data"
    },
    {
     "data": {
      "image/png": "[encoded data removed]",
      "text/plain": [
       "<Figure size 432x288 with 1 Axes>"
      ]
     },
     "metadata": {
      "needs_background": "light"
     },
     "output_type": "display_data"
    }
   ],
   "source": [
    "from plotly.graph_objs import Bar, Layout\n",
    "\n",
    "# Query 6 : Subject description \n",
    "\n",
    "# query UAntwerpen\n",
    "\n",
    "query_ua = '''\n",
    "SELECT DISTINCT \n",
    "    token.cloi, \n",
    "    subject_ty, \n",
    "    subject_ac, \n",
    "    subject_vw,\n",
    "    lib\n",
    "FROM token\n",
    "JOIN \n",
    "    holding on token.cloi = holding.cloi\n",
    "JOIN \n",
    "    subject on token.cloi = subject.cloi \n",
    "WHERE \n",
    "    lib like \"UA-CST\" \n",
    "    and ((holding_ty like 'rech-%' and holding_ty not like 'rech-e%')\n",
    "    or (holding_ty like 'sr-%' and holding_ty not like 'sr-e%'))\n",
    "    and subject_ty like \"U\" \n",
    "'''\n",
    "\n",
    "cursor.execute(query_ua)\n",
    "data_ua = {row for row in cursor.fetchall()}\n",
    "frame_ua = pd.DataFrame(data_ua, columns= ['cloi', 'subject_ty', 'subject_ac', 'subject_vw', 'lib'])\n",
    "ua_udc = frame_ua['subject_vw'].value_counts()\n",
    "\n",
    "print(\"\\033[1m\" + f'Top 20 UDC codes - UAntwerpen collection: \\033[0m \\n{(ua_udc.head(20)).to_string()}\\n')\n",
    "\n",
    "\n",
    "# query RBLimburg\n",
    "\n",
    "query_rbl = '''\n",
    "SELECT DISTINCT \n",
    "    token.cloi, \n",
    "    subject_ty, \n",
    "    subject_ac, \n",
    "    subject_vw,\n",
    "    lib\n",
    "FROM token\n",
    "JOIN \n",
    "    holding on token.cloi = holding.cloi\n",
    "JOIN \n",
    "    subject on token.cloi = subject.cloi \n",
    "WHERE \n",
    "    lib like \"RBL\" \n",
    "    and (holding_ty like 'rech-%' and holding_ty not like 'rech-e%') \n",
    "    and subject_ty like \"U\" \n",
    "'''\n",
    "cursor.execute(query_rbl)\n",
    "data_rbl = {row for row in cursor.fetchall()}\n",
    "frame_rbl = pd.DataFrame(data_rbl, columns= ['cloi', 'subject_ty', 'subject_ac', 'subject_vw', 'lib'])\n",
    "rbl_udc = frame_rbl['subject_vw'].value_counts()\n",
    "\n",
    "print(\"\\033[1m\" + f'Top 20 UDC codes - RBLimburg: \\033[0m \\n{(rbl_udc.head(20)).to_string()}\\n')\n",
    "\n",
    "# graphs\n",
    "\n",
    "bars_ua = ['Sociaal recht', 'Rechtstheorie', 'Strafrecht', 'Economisch recht', 'Contractenrecht']\n",
    "bars_rbl = ['Sociaal recht', 'Gerechtelijk privaatrecht', 'Fiscaal recht', 'Strafrecht', 'Contractenrecht']\n",
    "\n",
    "graph(ua_udc.head(5), bars_ua, plt.title('UDC-codes - UAntwerpen collection'), index = np.arange(5))\n",
    "graph(rbl_udc.head(5), bars_rbl, plt.title('UDC-codes - RBLimburg collection'), index = np.arange(5))\n"
   ]
  },
  {
   "cell_type": "code",
   "execution_count": null,
   "metadata": {},
   "outputs": [],
   "source": []
  }
 ],
 "metadata": {
  "interpreter": {
   "hash": "916dbcbb3f70747c44a77c7bcd40155683ae19c65e1c03b4aa3499c5328201f1"
  },
  "kernelspec": {
   "display_name": "Python 3",
   "language": "python",
   "name": "python3"
  },
  "language_info": {
   "codemirror_mode": {
    "name": "ipython",
    "version": 3
   },
   "file_extension": ".py",
   "mimetype": "text/x-python",
   "name": "python",
   "nbconvert_exporter": "python",
   "pygments_lexer": "ipython3",
   "version": "3.7.6"
  },
  "toc-autonumbering": false,
  "toc-showcode": false,
  "toc-showmarkdowntxt": false,
  "toc-showtags": false
 },
 "nbformat": 4,
 "nbformat_minor": 4
}
